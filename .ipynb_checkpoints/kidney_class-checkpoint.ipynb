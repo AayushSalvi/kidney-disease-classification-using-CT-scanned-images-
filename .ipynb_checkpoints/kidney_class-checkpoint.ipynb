{
 "cells": [
  {
   "cell_type": "markdown",
   "id": "bebbe93f",
   "metadata": {},
   "source": [
    "# Importing the libraries"
   ]
  },
  {
   "cell_type": "code",
   "execution_count": 1,
   "id": "7c8d45e7",
   "metadata": {},
   "outputs": [],
   "source": [
    "import numpy as np\n",
    "import pandas as pd\n",
    "from pathlib import Path\n",
    "import matplotlib.pyplot as plt\n",
    "import seaborn as sns\n",
    "from skimage.io import imread\n",
    "import cv2\n",
    "sns.set()"
   ]
  },
  {
   "cell_type": "markdown",
   "id": "1434bc50",
   "metadata": {},
   "source": [
    "# Creating the training set"
   ]
  },
  {
   "cell_type": "code",
   "execution_count": 2,
   "id": "1478ec6e",
   "metadata": {},
   "outputs": [],
   "source": [
    "# initializing path\n",
    "data_dir = Path('CT-KIDNEY-DATASET-Normal-Cyst-Tumor-Stone')\n",
    "train_dir = data_dir"
   ]
  },
  {
   "cell_type": "code",
   "execution_count": 3,
   "id": "b6657eda",
   "metadata": {},
   "outputs": [],
   "source": [
    "# Get the path to the normal and pneumonia sub-directories\n",
    "Normal_Cases_dir = train_dir / 'Normal'\n",
    "Cyst_Cases_dir = train_dir / 'Cyst'\n",
    "Stone_Cases_dir = train_dir / 'Stone'\n",
    "Tumor_Cases_dir = train_dir / 'Tumor'"
   ]
  },
  {
   "cell_type": "code",
   "execution_count": 4,
   "id": "eaee53d3",
   "metadata": {},
   "outputs": [],
   "source": [
    "# Getting the list of all the images\n",
    "Normal_Cases = Normal_Cases_dir.glob('*.jpg')\n",
    "Cyst_Cases = Cyst_Cases_dir.glob('*.jpg')\n",
    "Stone_Cases = Stone_Cases_dir.glob('*.jpg')\n",
    "Tumor_Cases = Tumor_Cases_dir.glob('*.jpg')"
   ]
  },
  {
   "cell_type": "code",
   "execution_count": 5,
   "id": "da3e861d",
   "metadata": {},
   "outputs": [],
   "source": [
    "# An empty list for inserting data into this list in (image_path, Label) format\n",
    "train_data = []\n"
   ]
  },
  {
   "cell_type": "code",
   "execution_count": 6,
   "id": "115d60e4",
   "metadata": {},
   "outputs": [],
   "source": [
    "# Labeling the Cyst case as 0\n",
    "for img in Cyst_Cases:\n",
    "    train_data.append((img, 0))\n",
    "\n",
    "# Labeling the Normal case as 1\n",
    "for img in Normal_Cases:\n",
    "    train_data.append((img, 1))\n",
    "\n",
    "# Labeling the Stone case as 2\n",
    "for img in Stone_Cases:\n",
    "    train_data.append((img, 2))\n",
    "\n",
    "# Labeling the Tumor case as 3\n",
    "for img in Tumor_Cases:\n",
    "    train_data.append((img, 3))"
   ]
  },
  {
   "cell_type": "code",
   "execution_count": 7,
   "id": "cee2a9c2",
   "metadata": {},
   "outputs": [],
   "source": [
    "# Making a data frame using pandas (creating CSV file)\n",
    "train_data = pd.DataFrame(train_data, columns=['image', 'label'], index=None)"
   ]
  },
  {
   "cell_type": "code",
   "execution_count": 8,
   "id": "36935786",
   "metadata": {},
   "outputs": [
    {
     "data": {
      "text/html": [
       "<div>\n",
       "<style scoped>\n",
       "    .dataframe tbody tr th:only-of-type {\n",
       "        vertical-align: middle;\n",
       "    }\n",
       "\n",
       "    .dataframe tbody tr th {\n",
       "        vertical-align: top;\n",
       "    }\n",
       "\n",
       "    .dataframe thead th {\n",
       "        text-align: right;\n",
       "    }\n",
       "</style>\n",
       "<table border=\"1\" class=\"dataframe\">\n",
       "  <thead>\n",
       "    <tr style=\"text-align: right;\">\n",
       "      <th></th>\n",
       "      <th>image</th>\n",
       "      <th>label</th>\n",
       "    </tr>\n",
       "  </thead>\n",
       "  <tbody>\n",
       "    <tr>\n",
       "      <th>0</th>\n",
       "      <td>CT-KIDNEY-DATASET-Normal-Cyst-Tumor-Stone\\Norm...</td>\n",
       "      <td>1</td>\n",
       "    </tr>\n",
       "    <tr>\n",
       "      <th>1</th>\n",
       "      <td>CT-KIDNEY-DATASET-Normal-Cyst-Tumor-Stone\\Tumo...</td>\n",
       "      <td>3</td>\n",
       "    </tr>\n",
       "    <tr>\n",
       "      <th>2</th>\n",
       "      <td>CT-KIDNEY-DATASET-Normal-Cyst-Tumor-Stone\\Norm...</td>\n",
       "      <td>1</td>\n",
       "    </tr>\n",
       "    <tr>\n",
       "      <th>3</th>\n",
       "      <td>CT-KIDNEY-DATASET-Normal-Cyst-Tumor-Stone\\Norm...</td>\n",
       "      <td>1</td>\n",
       "    </tr>\n",
       "    <tr>\n",
       "      <th>4</th>\n",
       "      <td>CT-KIDNEY-DATASET-Normal-Cyst-Tumor-Stone\\Norm...</td>\n",
       "      <td>1</td>\n",
       "    </tr>\n",
       "  </tbody>\n",
       "</table>\n",
       "</div>"
      ],
      "text/plain": [
       "                                               image  label\n",
       "0  CT-KIDNEY-DATASET-Normal-Cyst-Tumor-Stone\\Norm...      1\n",
       "1  CT-KIDNEY-DATASET-Normal-Cyst-Tumor-Stone\\Tumo...      3\n",
       "2  CT-KIDNEY-DATASET-Normal-Cyst-Tumor-Stone\\Norm...      1\n",
       "3  CT-KIDNEY-DATASET-Normal-Cyst-Tumor-Stone\\Norm...      1\n",
       "4  CT-KIDNEY-DATASET-Normal-Cyst-Tumor-Stone\\Norm...      1"
      ]
     },
     "execution_count": 8,
     "metadata": {},
     "output_type": "execute_result"
    }
   ],
   "source": [
    "# Select random data row from the dataframe and show and index it.\n",
    "train_data = train_data.sample(frac=1.).reset_index(drop=True)\n",
    "train_data.head()"
   ]
  },
  {
   "cell_type": "code",
   "execution_count": 9,
   "id": "a905c757",
   "metadata": {},
   "outputs": [
    {
     "data": {
      "text/plain": [
       "array([1, 3, 2, 0], dtype=int64)"
      ]
     },
     "execution_count": 9,
     "metadata": {},
     "output_type": "execute_result"
    }
   ],
   "source": [
    "# Returns all the unique values of Label in train_data\n",
    "train_data['label'].unique()"
   ]
  },
  {
   "cell_type": "code",
   "execution_count": 10,
   "id": "0652f65a",
   "metadata": {},
   "outputs": [
    {
     "data": {
      "text/plain": [
       "(12446, 2)"
      ]
     },
     "execution_count": 10,
     "metadata": {},
     "output_type": "execute_result"
    }
   ],
   "source": [
    "# Returns number of rows and columns\n",
    "train_data.shape"
   ]
  },
  {
   "cell_type": "markdown",
   "id": "b6464907",
   "metadata": {},
   "source": [
    "# Plotting dataset classes"
   ]
  },
  {
   "cell_type": "code",
   "execution_count": 11,
   "id": "4d4a3034",
   "metadata": {},
   "outputs": [
    {
     "data": {
      "text/plain": [
       "1    5077\n",
       "0    3709\n",
       "3    2283\n",
       "2    1377\n",
       "Name: label, dtype: int64"
      ]
     },
     "execution_count": 11,
     "metadata": {},
     "output_type": "execute_result"
    }
   ],
   "source": [
    "# Getting the count of each class (Normal, Cyst, Tumor, Stone)\n",
    "cases_count = train_data['label'].value_counts()\n",
    "cases_count"
   ]
  },
  {
   "cell_type": "code",
   "execution_count": 12,
   "id": "439479f0",
   "metadata": {},
   "outputs": [
    {
     "data": {
      "image/png": "[encoded data removed]",
      "text/plain": [
       "<Figure size 576x432 with 1 Axes>"
      ]
     },
     "metadata": {},
     "output_type": "display_data"
    }
   ],
   "source": [
    "# Plotting the Graph \n",
    "plt.figure(figsize = (8,6))  # Size of graph\n",
    "sns.barplot(x = cases_count.index, y = cases_count.values)\n",
    "plt.title('Number of Cases', fontsize=14)\n",
    "plt.xlabel('Case Type', fontsize = 12)\n",
    "plt.ylabel('Count', fontsize = 12)\n",
    "plt.xticks(range(len(cases_count.index)),['Cyst(0)', 'Normal(1)','Stone(2)','Tumor(3)'])\n",
    "plt.show()"
   ]
  },
  {
   "cell_type": "markdown",
   "id": "26947b3e",
   "metadata": {},
   "source": [
    "# CT Scanned"
   ]
  },
  {
   "cell_type": "code",
   "execution_count": 13,
   "id": "5be6597a",
   "metadata": {},
   "outputs": [],
   "source": [
    "# Getting few samples for both the classes\n",
    "\n",
    "# Gets 5 data from each cases\n",
    "Cyst_Samples = (train_data[train_data['label'] == 0]['image'].iloc[:5]).tolist()\n",
    "Normal_Samples = (train_data[train_data['label'] == 1]['image'].iloc[:5]).tolist()\n",
    "Stone_Samples = (train_data[train_data['label'] == 2]['image'].iloc[:5]).tolist()\n",
    "Tumor_Samples = (train_data[train_data['label'] == 3]['image'].iloc[:5]).tolist()\n",
    "\n",
    "# Combining data in one variable\n",
    "samples = Cyst_Samples + Normal_Samples + Stone_Samples + Tumor_Samples\n",
    "\n",
    "del Cyst_Samples, Normal_Samples, Stone_Samples, Tumor_Samples"
   ]
  },
  {
   "cell_type": "code",
   "execution_count": 14,
   "id": "29db7392",
   "metadata": {},
   "outputs": [
    {
     "data": {
      "image/png": "[encoded data removed]",
      "text/plain": [
       "<Figure size 720x360 with 10 Axes>"
      ]
     },
     "metadata": {},
     "output_type": "display_data"
    }
   ],
   "source": [
    "# Displaying the picture\n",
    "f, ax = plt.subplots(2, 5,figsize=(10,5)) # Initilizing the graph where image is to be display\n",
    "\n",
    "for i in range(10):\n",
    "    img = imread(samples[i]) # reading the image\n",
    "    ax[i//5, i%5].imshow(img, cmap='gray') # displaying the image\n",
    "    \n",
    "    # putting title in the images\n",
    "    if i<5:\n",
    "        ax[i//5, i%5].set_title(\"Cyst_samples\")\n",
    "    elif i<10:\n",
    "        ax[i//5, i%5].set_title(\"Normal_samples\")\n",
    "    elif i<15:\n",
    "        ax[i//5, i%5].set_title(\"Stone_samples\")\n",
    "    elif i<20:\n",
    "        ax[i//5, i%5].set_title(\"Tumor_samples\")\n",
    "    \n",
    "    # removing the scales in the graph\n",
    "    ax[i//5, i%5].axis('off')\n",
    "    ax[i//5, i%5].set_aspect('auto')\n",
    "\n",
    "plt.show()\n",
    "    "
   ]
  },
  {
   "cell_type": "code",
   "execution_count": 15,
   "id": "99967e96",
   "metadata": {},
   "outputs": [],
   "source": [
    "# Get the path to the normal and pneumonia sub-directories\n",
    "Normal_Cases_dir = train_dir / 'Normal'\n",
    "Cyst_Cases_dir = train_dir / 'Cyst'\n",
    "Stone_Cases_dir = train_dir / 'Stone'\n",
    "Tumor_Cases_dir = train_dir / 'Tumor'"
   ]
  },
  {
   "cell_type": "code",
   "execution_count": 16,
   "id": "603c456c",
   "metadata": {},
   "outputs": [],
   "source": [
    "# Getting the list of all the images\n",
    "Normal_Cases = Normal_Cases_dir.glob('*.jpg')\n",
    "Cyst_Cases = Cyst_Cases_dir.glob('*.jpg')\n",
    "Stone_Cases = Stone_Cases_dir.glob('*.jpg')\n",
    "Tumor_Cases = Tumor_Cases_dir.glob('*.jpg')\n",
    "train_data = []\n",
    "train_labels = []"
   ]
  },
  {
   "cell_type": "markdown",
   "id": "d22ae3df",
   "metadata": {},
   "source": [
    "# Data Preprocessing"
   ]
  },
  {
   "cell_type": "code",
   "execution_count": 17,
   "id": "21060675",
   "metadata": {},
   "outputs": [],
   "source": [
    "for img in Cyst_Cases:\n",
    "    img = cv2.imread(str(img)) # Loading image\n",
    "    img = cv2.resize(img, (28,28)) # resizing image \n",
    "    if img.shape[2] == 1: # Number of channel in the dimension.\n",
    "        img = np.dstack([img, img, img])\n",
    "    img = cv2.cvtColor(img,cv2.COLOR_BGR2RGB) # Changing image color\n",
    "    img = np.array(img) # creating a numpy array\n",
    "    img = img/255  # Normalization\n",
    "    label = 'Cyst' \n",
    "    train_data.append(img)\n",
    "    train_labels.append(label)"
   ]
  },
  {
   "cell_type": "code",
   "execution_count": 18,
   "id": "c29450ea",
   "metadata": {},
   "outputs": [],
   "source": [
    "for img in Normal_Cases:\n",
    "    img = cv2.imread(str(img))\n",
    "    img = cv2.resize(img,(28,28))\n",
    "    if img.shape[2] == 1:\n",
    "        img = np.dstack([img, img, img])\n",
    "    img = cv2.cvtColor(img,cv2.COLOR_BGR2RGB)\n",
    "    img = np.array(img)\n",
    "    img = img/255\n",
    "    label = 'Normal'\n",
    "    train_data.append(img)\n",
    "    train_labels.append(label)"
   ]
  },
  {
   "cell_type": "code",
   "execution_count": 19,
   "id": "14881c40",
   "metadata": {},
   "outputs": [],
   "source": [
    "for img in Stone_Cases:\n",
    "    img = cv2.imread(str(img))\n",
    "    img = cv2.resize(img, (28,28))\n",
    "    if img.shape[2] == 1:\n",
    "        img = np.dstack([img,img,img])\n",
    "    img = cv2.cvtColor(img, cv2.COLOR_BGR2RGB)\n",
    "    img = np.array(img)\n",
    "    img = img/255\n",
    "    label = \"Stone\"\n",
    "    train_data.append(img)\n",
    "    train_labels.append(label)"
   ]
  },
  {
   "cell_type": "code",
   "execution_count": 20,
   "id": "bf9997ba",
   "metadata": {},
   "outputs": [],
   "source": [
    "for img in Tumor_Cases:\n",
    "    img = cv2.imread(str(img))\n",
    "    img = cv2.resize(img, (28,28))\n",
    "    if img.shape[2] == 1:\n",
    "        img = np.dstack([img, img, img])\n",
    "    img = cv2.cvtColor(img,cv2.COLOR_BGR2RGB)\n",
    "    img = np.array(img)\n",
    "    img = img/255\n",
    "    label = \"Tumor\"\n",
    "    train_data.append(img)\n",
    "    train_labels.append(label)"
   ]
  },
  {
   "cell_type": "code",
   "execution_count": 21,
   "id": "1b1194ea",
   "metadata": {},
   "outputs": [
    {
     "name": "stdout",
     "output_type": "stream",
     "text": [
      "Total number of validation example:  (12446, 28, 28, 3)\n",
      "Total number of Labels :  (12446,)\n"
     ]
    }
   ],
   "source": [
    "train_data1 = np.array(train_data) # train_data or train_data1 is a 4D array from 3D image Array\n",
    "train_labels1 = np.array(train_labels)\n",
    "print('Total number of validation example: ', train_data1.shape)\n",
    "print('Total number of Labels : ', train_labels1.shape)"
   ]
  },
  {
   "cell_type": "code",
   "execution_count": 22,
   "id": "b01dea26",
   "metadata": {},
   "outputs": [
    {
     "data": {
      "text/plain": [
       "array([[[0.        , 0.        , 0.        ],\n",
       "        [0.        , 0.        , 0.        ],\n",
       "        [0.        , 0.        , 0.        ],\n",
       "        ...,\n",
       "        [0.        , 0.        , 0.        ],\n",
       "        [0.        , 0.        , 0.        ],\n",
       "        [0.        , 0.        , 0.        ]],\n",
       "\n",
       "       [[0.        , 0.        , 0.        ],\n",
       "        [0.        , 0.        , 0.        ],\n",
       "        [0.        , 0.        , 0.        ],\n",
       "        ...,\n",
       "        [0.        , 0.        , 0.        ],\n",
       "        [0.        , 0.        , 0.        ],\n",
       "        [0.        , 0.        , 0.        ]],\n",
       "\n",
       "       [[0.        , 0.        , 0.        ],\n",
       "        [0.        , 0.        , 0.        ],\n",
       "        [0.        , 0.        , 0.        ],\n",
       "        ...,\n",
       "        [0.        , 0.        , 0.        ],\n",
       "        [0.        , 0.        , 0.        ],\n",
       "        [0.        , 0.        , 0.        ]],\n",
       "\n",
       "       ...,\n",
       "\n",
       "       [[0.76862745, 0.76862745, 0.76862745],\n",
       "        [0.        , 0.        , 0.        ],\n",
       "        [0.        , 0.        , 0.        ],\n",
       "        ...,\n",
       "        [0.        , 0.        , 0.        ],\n",
       "        [0.        , 0.        , 0.        ],\n",
       "        [0.        , 0.        , 0.        ]],\n",
       "\n",
       "       [[0.        , 0.        , 0.        ],\n",
       "        [0.        , 0.        , 0.        ],\n",
       "        [0.        , 0.        , 0.        ],\n",
       "        ...,\n",
       "        [0.        , 0.        , 0.        ],\n",
       "        [0.03529412, 0.03529412, 0.03529412],\n",
       "        [0.        , 0.        , 0.        ]],\n",
       "\n",
       "       [[0.        , 0.        , 0.        ],\n",
       "        [0.        , 0.        , 0.        ],\n",
       "        [0.        , 0.        , 0.        ],\n",
       "        ...,\n",
       "        [0.        , 0.        , 0.        ],\n",
       "        [0.        , 0.        , 0.        ],\n",
       "        [0.        , 0.        , 0.        ]]])"
      ]
     },
     "execution_count": 22,
     "metadata": {},
     "output_type": "execute_result"
    }
   ],
   "source": [
    "train_data1[1]"
   ]
  },
  {
   "cell_type": "code",
   "execution_count": 23,
   "id": "3a0c58a0",
   "metadata": {},
   "outputs": [
    {
     "data": {
      "text/html": [
       "<div>\n",
       "<style scoped>\n",
       "    .dataframe tbody tr th:only-of-type {\n",
       "        vertical-align: middle;\n",
       "    }\n",
       "\n",
       "    .dataframe tbody tr th {\n",
       "        vertical-align: top;\n",
       "    }\n",
       "\n",
       "    .dataframe thead th {\n",
       "        text-align: right;\n",
       "    }\n",
       "</style>\n",
       "<table border=\"1\" class=\"dataframe\">\n",
       "  <thead>\n",
       "    <tr style=\"text-align: right;\">\n",
       "      <th></th>\n",
       "      <th>label</th>\n",
       "    </tr>\n",
       "  </thead>\n",
       "  <tbody>\n",
       "    <tr>\n",
       "      <th>0</th>\n",
       "      <td>Cyst</td>\n",
       "    </tr>\n",
       "    <tr>\n",
       "      <th>1</th>\n",
       "      <td>Cyst</td>\n",
       "    </tr>\n",
       "    <tr>\n",
       "      <th>2</th>\n",
       "      <td>Cyst</td>\n",
       "    </tr>\n",
       "    <tr>\n",
       "      <th>3</th>\n",
       "      <td>Cyst</td>\n",
       "    </tr>\n",
       "    <tr>\n",
       "      <th>4</th>\n",
       "      <td>Cyst</td>\n",
       "    </tr>\n",
       "    <tr>\n",
       "      <th>...</th>\n",
       "      <td>...</td>\n",
       "    </tr>\n",
       "    <tr>\n",
       "      <th>12441</th>\n",
       "      <td>Tumor</td>\n",
       "    </tr>\n",
       "    <tr>\n",
       "      <th>12442</th>\n",
       "      <td>Tumor</td>\n",
       "    </tr>\n",
       "    <tr>\n",
       "      <th>12443</th>\n",
       "      <td>Tumor</td>\n",
       "    </tr>\n",
       "    <tr>\n",
       "      <th>12444</th>\n",
       "      <td>Tumor</td>\n",
       "    </tr>\n",
       "    <tr>\n",
       "      <th>12445</th>\n",
       "      <td>Tumor</td>\n",
       "    </tr>\n",
       "  </tbody>\n",
       "</table>\n",
       "<p>12446 rows × 1 columns</p>\n",
       "</div>"
      ],
      "text/plain": [
       "       label\n",
       "0       Cyst\n",
       "1       Cyst\n",
       "2       Cyst\n",
       "3       Cyst\n",
       "4       Cyst\n",
       "...      ...\n",
       "12441  Tumor\n",
       "12442  Tumor\n",
       "12443  Tumor\n",
       "12444  Tumor\n",
       "12445  Tumor\n",
       "\n",
       "[12446 rows x 1 columns]"
      ]
     },
     "execution_count": 23,
     "metadata": {},
     "output_type": "execute_result"
    }
   ],
   "source": [
    "train_labels1 = pd.DataFrame(train_labels1, columns = ['label'],index=None)\n",
    "train_labels1"
   ]
  },
  {
   "cell_type": "code",
   "execution_count": 24,
   "id": "6c4710bb",
   "metadata": {},
   "outputs": [
    {
     "data": {
      "text/plain": [
       "array(['Cyst', 'Normal', 'Stone', 'Tumor'], dtype=object)"
      ]
     },
     "execution_count": 24,
     "metadata": {},
     "output_type": "execute_result"
    }
   ],
   "source": [
    "train_labels1['label'].unique()\n"
   ]
  },
  {
   "cell_type": "code",
   "execution_count": 25,
   "id": "c0a857a6",
   "metadata": {},
   "outputs": [],
   "source": [
    "train_labels1['label'] = train_labels1['label'].map({'Cyst':0,'Normal':1,'Stone':2,'Tumor':3})"
   ]
  },
  {
   "cell_type": "code",
   "execution_count": 26,
   "id": "e0729f20",
   "metadata": {},
   "outputs": [
    {
     "name": "stdout",
     "output_type": "stream",
     "text": [
      "(12446, 28, 28, 3)\n",
      "(12446, 1)\n"
     ]
    }
   ],
   "source": [
    "print(train_data1.shape)\n",
    "print(train_labels1.shape)"
   ]
  },
  {
   "cell_type": "code",
   "execution_count": 27,
   "id": "84324397",
   "metadata": {},
   "outputs": [
    {
     "data": {
      "text/plain": [
       "label    0\n",
       "dtype: int64"
      ]
     },
     "execution_count": 27,
     "metadata": {},
     "output_type": "execute_result"
    }
   ],
   "source": [
    "train_labels1.isnull().sum() # Checking for the missing(NULL) value in the labels1"
   ]
  },
  {
   "cell_type": "markdown",
   "id": "9375ebf8",
   "metadata": {},
   "source": [
    "# Solving Image Dataset Imblance Using SMOTE"
   ]
  },
  {
   "cell_type": "code",
   "execution_count": 28,
   "id": "b0bff437",
   "metadata": {},
   "outputs": [],
   "source": [
    "from imblearn.over_sampling import SMOTE\n",
    "smote = SMOTE() # Initilizing The SMOTE class\n",
    "train_rows = len(train_data1) # getting total number or rows\n",
    "train_data1 = train_data1.reshape(train_rows,-1)  # Converting 4D array to 2D Array\n",
    "train_data2, train_labels2 = smote.fit_resample(train_data1,train_labels1) # Balancing Image Dataset using SMOTE"
   ]
  },
  {
   "cell_type": "code",
   "execution_count": 29,
   "id": "ee0fa431",
   "metadata": {},
   "outputs": [
    {
     "data": {
      "image/png": "[encoded data removed]",
      "text/plain": [
       "<Figure size 576x432 with 1 Axes>"
      ]
     },
     "metadata": {},
     "output_type": "display_data"
    }
   ],
   "source": [
    "cases_count1 = train_labels2['label'].value_counts() # Counting values of diffrent image\n",
    "\n",
    "#Plotting Graph for Label values\n",
    "plt.figure(figsize=(8,6)) # Setting size of graph\n",
    "sns.barplot(x=cases_count1.index, y=cases_count1.values)\n",
    "plt.title('Number of cases', fontsize = 14)\n",
    "plt.xlabel('Case Type',fontsize = 12)\n",
    "plt.ylabel('Count', fontsize = 12)\n",
    "plt.xticks(range(len(cases_count1.index)), ['Cyst(0)', 'Normal(1)', 'Stone(2)', 'Tumor(3)'])\n",
    "plt.show()"
   ]
  },
  {
   "cell_type": "code",
   "execution_count": 30,
   "id": "ec756e63",
   "metadata": {},
   "outputs": [
    {
     "data": {
      "text/plain": [
       "(20308, 2352)"
      ]
     },
     "execution_count": 30,
     "metadata": {},
     "output_type": "execute_result"
    }
   ],
   "source": [
    "train_data2.shape\n"
   ]
  },
  {
   "cell_type": "code",
   "execution_count": 31,
   "id": "84807741",
   "metadata": {},
   "outputs": [
    {
     "data": {
      "text/plain": [
       "(20308, 28, 28, 3)"
      ]
     },
     "execution_count": 31,
     "metadata": {},
     "output_type": "execute_result"
    }
   ],
   "source": [
    "train_data2 = train_data2.reshape(-1,28,28,3) # Converting 2D array to 4D Array\n",
    "train_data2.shape"
   ]
  },
  {
   "cell_type": "code",
   "execution_count": 32,
   "id": "52ad8cdf",
   "metadata": {},
   "outputs": [
    {
     "data": {
      "text/plain": [
       "array([[[0., 0., 0.],\n",
       "        [0., 0., 0.],\n",
       "        [0., 0., 0.],\n",
       "        ...,\n",
       "        [0., 0., 0.],\n",
       "        [0., 0., 0.],\n",
       "        [0., 0., 0.]],\n",
       "\n",
       "       [[0., 0., 0.],\n",
       "        [0., 0., 0.],\n",
       "        [0., 0., 0.],\n",
       "        ...,\n",
       "        [0., 0., 0.],\n",
       "        [0., 0., 0.],\n",
       "        [0., 0., 0.]],\n",
       "\n",
       "       [[0., 0., 0.],\n",
       "        [0., 0., 0.],\n",
       "        [0., 0., 0.],\n",
       "        ...,\n",
       "        [0., 0., 0.],\n",
       "        [0., 0., 0.],\n",
       "        [0., 0., 0.]],\n",
       "\n",
       "       ...,\n",
       "\n",
       "       [[0., 0., 0.],\n",
       "        [0., 0., 0.],\n",
       "        [0., 0., 0.],\n",
       "        ...,\n",
       "        [0., 0., 0.],\n",
       "        [0., 0., 0.],\n",
       "        [0., 0., 0.]],\n",
       "\n",
       "       [[0., 0., 0.],\n",
       "        [0., 0., 0.],\n",
       "        [0., 0., 0.],\n",
       "        ...,\n",
       "        [0., 0., 0.],\n",
       "        [0., 0., 0.],\n",
       "        [0., 0., 0.]],\n",
       "\n",
       "       [[0., 0., 0.],\n",
       "        [0., 0., 0.],\n",
       "        [0., 0., 0.],\n",
       "        ...,\n",
       "        [0., 0., 0.],\n",
       "        [0., 0., 0.],\n",
       "        [0., 0., 0.]]])"
      ]
     },
     "execution_count": 32,
     "metadata": {},
     "output_type": "execute_result"
    }
   ],
   "source": [
    "train_data2[0]"
   ]
  },
  {
   "cell_type": "markdown",
   "id": "2f0b7b01",
   "metadata": {},
   "source": [
    "# Splitting the Dataset For training and testing and Validating using sklearn : train_test_split"
   ]
  },
  {
   "cell_type": "code",
   "execution_count": 33,
   "id": "c6128d8a",
   "metadata": {},
   "outputs": [],
   "source": [
    "from sklearn.model_selection import train_test_split\n",
    "\n",
    "X_train, X_test, y_train, y_test = train_test_split(train_data2, train_labels2, test_size = 0.20,random_state = 42) # With random_state=42, we get the same train and test sets across different executions\n",
    "X_train, X_val, y_train, y_val = train_test_split(train_data2, train_labels2, test_size = 0.10,random_state = 42)"
   ]
  },
  {
   "cell_type": "code",
   "execution_count": 34,
   "id": "08e9d05a",
   "metadata": {},
   "outputs": [
    {
     "name": "stdout",
     "output_type": "stream",
     "text": [
      "Training Data X :  (18277, 28, 28, 3)\n",
      "Testing Data X :  (4062, 28, 28, 3)\n",
      "Training Data y :  (18277, 1)\n",
      "Testing Data y :  (4062, 1)\n",
      "Validating Data X :  (2031, 28, 28, 3)\n",
      "Validating Data y (2031, 1)\n",
      "Image Size :  (28, 28, 3)\n"
     ]
    }
   ],
   "source": [
    "print(\"Training Data X : \",X_train.shape)\n",
    "print(\"Testing Data X : \",X_test.shape)\n",
    "print(\"Training Data y : \",y_train.shape)\n",
    "print(\"Testing Data y : \",y_test.shape)\n",
    "print(\"Validating Data X : \",X_val.shape)\n",
    "print(\"Validating Data y\",y_val.shape)\n",
    "print(\"Image Size : \",X_train[0].shape)"
   ]
  },
  {
   "cell_type": "markdown",
   "id": "679e5f28",
   "metadata": {},
   "source": [
    "# Data Augmentation"
   ]
  },
  {
   "cell_type": "code",
   "execution_count": 38,
   "id": "728bc820",
   "metadata": {
    "scrolled": false
   },
   "outputs": [
    {
     "ename": "TypeError",
     "evalue": "metaclass conflict: the metaclass of a derived class must be a (non-strict) subclass of the metaclasses of all its bases",
     "output_type": "error",
     "traceback": [
      "\u001b[1;31m---------------------------------------------------------------------------\u001b[0m",
      "\u001b[1;31mTypeError\u001b[0m                                 Traceback (most recent call last)",
      "\u001b[1;32m<ipython-input-38-64156d691fe5>\u001b[0m in \u001b[0;36m<module>\u001b[1;34m\u001b[0m\n\u001b[1;32m----> 1\u001b[1;33m \u001b[1;32mimport\u001b[0m \u001b[0mtensorflow\u001b[0m \u001b[1;32mas\u001b[0m \u001b[0mtf\u001b[0m\u001b[1;33m\u001b[0m\u001b[1;33m\u001b[0m\u001b[0m\n\u001b[0m",
      "\u001b[1;32m~\\anaconda3\\envs\\tens\\lib\\site-packages\\tensorflow\\__init__.py\u001b[0m in \u001b[0;36m<module>\u001b[1;34m\u001b[0m\n\u001b[0;32m     26\u001b[0m \u001b[1;33m\u001b[0m\u001b[0m\n\u001b[0;32m     27\u001b[0m \u001b[1;31m# pylint: disable=g-bad-import-order\u001b[0m\u001b[1;33m\u001b[0m\u001b[1;33m\u001b[0m\u001b[1;33m\u001b[0m\u001b[0m\n\u001b[1;32m---> 28\u001b[1;33m \u001b[1;32mfrom\u001b[0m \u001b[0mtensorflow\u001b[0m\u001b[1;33m.\u001b[0m\u001b[0mpython\u001b[0m \u001b[1;32mimport\u001b[0m \u001b[0mpywrap_tensorflow\u001b[0m  \u001b[1;31m# pylint: disable=unused-import\u001b[0m\u001b[1;33m\u001b[0m\u001b[1;33m\u001b[0m\u001b[0m\n\u001b[0m\u001b[0;32m     29\u001b[0m \u001b[1;32mfrom\u001b[0m \u001b[0mtensorflow\u001b[0m\u001b[1;33m.\u001b[0m\u001b[0mpython\u001b[0m\u001b[1;33m.\u001b[0m\u001b[0mtools\u001b[0m \u001b[1;32mimport\u001b[0m \u001b[0mmodule_util\u001b[0m \u001b[1;32mas\u001b[0m \u001b[0m_module_util\u001b[0m\u001b[1;33m\u001b[0m\u001b[1;33m\u001b[0m\u001b[0m\n\u001b[0;32m     30\u001b[0m \u001b[1;33m\u001b[0m\u001b[0m\n",
      "\u001b[1;32m~\\anaconda3\\envs\\tens\\lib\\site-packages\\tensorflow\\python\\__init__.py\u001b[0m in \u001b[0;36m<module>\u001b[1;34m\u001b[0m\n\u001b[0;32m     61\u001b[0m \u001b[1;33m\u001b[0m\u001b[0m\n\u001b[0;32m     62\u001b[0m \u001b[1;31m# Framework\u001b[0m\u001b[1;33m\u001b[0m\u001b[1;33m\u001b[0m\u001b[1;33m\u001b[0m\u001b[0m\n\u001b[1;32m---> 63\u001b[1;33m \u001b[1;32mfrom\u001b[0m \u001b[0mtensorflow\u001b[0m\u001b[1;33m.\u001b[0m\u001b[0mpython\u001b[0m\u001b[1;33m.\u001b[0m\u001b[0mframework\u001b[0m\u001b[1;33m.\u001b[0m\u001b[0mframework_lib\u001b[0m \u001b[1;32mimport\u001b[0m \u001b[1;33m*\u001b[0m  \u001b[1;31m# pylint: disable=redefined-builtin\u001b[0m\u001b[1;33m\u001b[0m\u001b[1;33m\u001b[0m\u001b[0m\n\u001b[0m\u001b[0;32m     64\u001b[0m \u001b[1;32mfrom\u001b[0m \u001b[0mtensorflow\u001b[0m\u001b[1;33m.\u001b[0m\u001b[0mpython\u001b[0m\u001b[1;33m.\u001b[0m\u001b[0mframework\u001b[0m\u001b[1;33m.\u001b[0m\u001b[0mversions\u001b[0m \u001b[1;32mimport\u001b[0m \u001b[1;33m*\u001b[0m\u001b[1;33m\u001b[0m\u001b[1;33m\u001b[0m\u001b[0m\n\u001b[0;32m     65\u001b[0m \u001b[1;32mfrom\u001b[0m \u001b[0mtensorflow\u001b[0m\u001b[1;33m.\u001b[0m\u001b[0mpython\u001b[0m\u001b[1;33m.\u001b[0m\u001b[0mframework\u001b[0m \u001b[1;32mimport\u001b[0m \u001b[0mconfig\u001b[0m\u001b[1;33m\u001b[0m\u001b[1;33m\u001b[0m\u001b[0m\n",
      "\u001b[1;32m~\\anaconda3\\envs\\tens\\lib\\site-packages\\tensorflow\\python\\framework\\framework_lib.py\u001b[0m in \u001b[0;36m<module>\u001b[1;34m\u001b[0m\n\u001b[0;32m     23\u001b[0m \u001b[1;31m# Classes used when building a Graph.\u001b[0m\u001b[1;33m\u001b[0m\u001b[1;33m\u001b[0m\u001b[1;33m\u001b[0m\u001b[0m\n\u001b[0;32m     24\u001b[0m \u001b[1;32mfrom\u001b[0m \u001b[0mtensorflow\u001b[0m\u001b[1;33m.\u001b[0m\u001b[0mpython\u001b[0m\u001b[1;33m.\u001b[0m\u001b[0mframework\u001b[0m\u001b[1;33m.\u001b[0m\u001b[0mdevice\u001b[0m \u001b[1;32mimport\u001b[0m \u001b[0mDeviceSpec\u001b[0m\u001b[1;33m\u001b[0m\u001b[1;33m\u001b[0m\u001b[0m\n\u001b[1;32m---> 25\u001b[1;33m \u001b[1;32mfrom\u001b[0m \u001b[0mtensorflow\u001b[0m\u001b[1;33m.\u001b[0m\u001b[0mpython\u001b[0m\u001b[1;33m.\u001b[0m\u001b[0mframework\u001b[0m\u001b[1;33m.\u001b[0m\u001b[0mops\u001b[0m \u001b[1;32mimport\u001b[0m \u001b[0mGraph\u001b[0m\u001b[1;33m\u001b[0m\u001b[1;33m\u001b[0m\u001b[0m\n\u001b[0m\u001b[0;32m     26\u001b[0m \u001b[1;32mfrom\u001b[0m \u001b[0mtensorflow\u001b[0m\u001b[1;33m.\u001b[0m\u001b[0mpython\u001b[0m\u001b[1;33m.\u001b[0m\u001b[0mframework\u001b[0m\u001b[1;33m.\u001b[0m\u001b[0mops\u001b[0m \u001b[1;32mimport\u001b[0m \u001b[0mOperation\u001b[0m\u001b[1;33m\u001b[0m\u001b[1;33m\u001b[0m\u001b[0m\n\u001b[0;32m     27\u001b[0m \u001b[1;32mfrom\u001b[0m \u001b[0mtensorflow\u001b[0m\u001b[1;33m.\u001b[0m\u001b[0mpython\u001b[0m\u001b[1;33m.\u001b[0m\u001b[0mframework\u001b[0m\u001b[1;33m.\u001b[0m\u001b[0mops\u001b[0m \u001b[1;32mimport\u001b[0m \u001b[0mTensor\u001b[0m\u001b[1;33m\u001b[0m\u001b[1;33m\u001b[0m\u001b[0m\n",
      "\u001b[1;32m~\\anaconda3\\envs\\tens\\lib\\site-packages\\tensorflow\\python\\framework\\ops.py\u001b[0m in \u001b[0;36m<module>\u001b[1;34m\u001b[0m\n\u001b[0;32m     52\u001b[0m \u001b[1;32mfrom\u001b[0m \u001b[0mtensorflow\u001b[0m\u001b[1;33m.\u001b[0m\u001b[0mpython\u001b[0m\u001b[1;33m.\u001b[0m\u001b[0mframework\u001b[0m \u001b[1;32mimport\u001b[0m \u001b[0mversions\u001b[0m\u001b[1;33m\u001b[0m\u001b[1;33m\u001b[0m\u001b[0m\n\u001b[0;32m     53\u001b[0m \u001b[1;32mfrom\u001b[0m \u001b[0mtensorflow\u001b[0m\u001b[1;33m.\u001b[0m\u001b[0mpython\u001b[0m\u001b[1;33m.\u001b[0m\u001b[0mops\u001b[0m \u001b[1;32mimport\u001b[0m \u001b[0mcontrol_flow_util\u001b[0m\u001b[1;33m\u001b[0m\u001b[1;33m\u001b[0m\u001b[0m\n\u001b[1;32m---> 54\u001b[1;33m \u001b[1;32mfrom\u001b[0m \u001b[0mtensorflow\u001b[0m\u001b[1;33m.\u001b[0m\u001b[0mpython\u001b[0m\u001b[1;33m.\u001b[0m\u001b[0mplatform\u001b[0m \u001b[1;32mimport\u001b[0m \u001b[0mapp\u001b[0m\u001b[1;33m\u001b[0m\u001b[1;33m\u001b[0m\u001b[0m\n\u001b[0m\u001b[0;32m     55\u001b[0m \u001b[1;32mfrom\u001b[0m \u001b[0mtensorflow\u001b[0m\u001b[1;33m.\u001b[0m\u001b[0mpython\u001b[0m\u001b[1;33m.\u001b[0m\u001b[0mplatform\u001b[0m \u001b[1;32mimport\u001b[0m \u001b[0mtf_logging\u001b[0m \u001b[1;32mas\u001b[0m \u001b[0mlogging\u001b[0m\u001b[1;33m\u001b[0m\u001b[1;33m\u001b[0m\u001b[0m\n\u001b[0;32m     56\u001b[0m \u001b[1;32mfrom\u001b[0m \u001b[0mtensorflow\u001b[0m\u001b[1;33m.\u001b[0m\u001b[0mpython\u001b[0m\u001b[1;33m.\u001b[0m\u001b[0mutil\u001b[0m \u001b[1;32mimport\u001b[0m \u001b[0mcompat\u001b[0m\u001b[1;33m\u001b[0m\u001b[1;33m\u001b[0m\u001b[0m\n",
      "\u001b[1;32m~\\anaconda3\\envs\\tens\\lib\\site-packages\\tensorflow\\python\\platform\\app.py\u001b[0m in \u001b[0;36m<module>\u001b[1;34m\u001b[0m\n\u001b[0;32m     21\u001b[0m \u001b[1;32mimport\u001b[0m \u001b[0msys\u001b[0m \u001b[1;32mas\u001b[0m \u001b[0m_sys\u001b[0m\u001b[1;33m\u001b[0m\u001b[1;33m\u001b[0m\u001b[0m\n\u001b[0;32m     22\u001b[0m \u001b[1;33m\u001b[0m\u001b[0m\n\u001b[1;32m---> 23\u001b[1;33m \u001b[1;32mfrom\u001b[0m \u001b[0mabsl\u001b[0m\u001b[1;33m.\u001b[0m\u001b[0mapp\u001b[0m \u001b[1;32mimport\u001b[0m \u001b[0mrun\u001b[0m \u001b[1;32mas\u001b[0m \u001b[0m_run\u001b[0m\u001b[1;33m\u001b[0m\u001b[1;33m\u001b[0m\u001b[0m\n\u001b[0m\u001b[0;32m     24\u001b[0m \u001b[1;33m\u001b[0m\u001b[0m\n\u001b[0;32m     25\u001b[0m \u001b[1;32mfrom\u001b[0m \u001b[0mtensorflow\u001b[0m\u001b[1;33m.\u001b[0m\u001b[0mpython\u001b[0m\u001b[1;33m.\u001b[0m\u001b[0mplatform\u001b[0m \u001b[1;32mimport\u001b[0m \u001b[0mflags\u001b[0m\u001b[1;33m\u001b[0m\u001b[1;33m\u001b[0m\u001b[0m\n",
      "\u001b[1;32m~\\anaconda3\\envs\\tens\\lib\\site-packages\\absl\\app.py\u001b[0m in \u001b[0;36m<module>\u001b[1;34m\u001b[0m\n\u001b[0;32m     35\u001b[0m \u001b[1;33m\u001b[0m\u001b[0m\n\u001b[0;32m     36\u001b[0m \u001b[1;32mfrom\u001b[0m \u001b[0mabsl\u001b[0m \u001b[1;32mimport\u001b[0m \u001b[0mcommand_name\u001b[0m\u001b[1;33m\u001b[0m\u001b[1;33m\u001b[0m\u001b[0m\n\u001b[1;32m---> 37\u001b[1;33m \u001b[1;32mfrom\u001b[0m \u001b[0mabsl\u001b[0m \u001b[1;32mimport\u001b[0m \u001b[0mflags\u001b[0m\u001b[1;33m\u001b[0m\u001b[1;33m\u001b[0m\u001b[0m\n\u001b[0m\u001b[0;32m     38\u001b[0m \u001b[1;32mfrom\u001b[0m \u001b[0mabsl\u001b[0m \u001b[1;32mimport\u001b[0m \u001b[0mlogging\u001b[0m\u001b[1;33m\u001b[0m\u001b[1;33m\u001b[0m\u001b[0m\n\u001b[0;32m     39\u001b[0m \u001b[1;33m\u001b[0m\u001b[0m\n",
      "\u001b[1;32m~\\anaconda3\\envs\\tens\\lib\\site-packages\\absl\\flags\\__init__.py\u001b[0m in \u001b[0;36m<module>\u001b[1;34m\u001b[0m\n\u001b[0;32m     33\u001b[0m \u001b[1;32mimport\u001b[0m \u001b[0mwarnings\u001b[0m\u001b[1;33m\u001b[0m\u001b[1;33m\u001b[0m\u001b[0m\n\u001b[0;32m     34\u001b[0m \u001b[1;33m\u001b[0m\u001b[0m\n\u001b[1;32m---> 35\u001b[1;33m \u001b[1;32mfrom\u001b[0m \u001b[0mabsl\u001b[0m\u001b[1;33m.\u001b[0m\u001b[0mflags\u001b[0m \u001b[1;32mimport\u001b[0m \u001b[0m_argument_parser\u001b[0m\u001b[1;33m\u001b[0m\u001b[1;33m\u001b[0m\u001b[0m\n\u001b[0m\u001b[0;32m     36\u001b[0m \u001b[1;32mfrom\u001b[0m \u001b[0mabsl\u001b[0m\u001b[1;33m.\u001b[0m\u001b[0mflags\u001b[0m \u001b[1;32mimport\u001b[0m \u001b[0m_defines\u001b[0m\u001b[1;33m\u001b[0m\u001b[1;33m\u001b[0m\u001b[0m\n\u001b[0;32m     37\u001b[0m \u001b[1;32mfrom\u001b[0m \u001b[0mabsl\u001b[0m\u001b[1;33m.\u001b[0m\u001b[0mflags\u001b[0m \u001b[1;32mimport\u001b[0m \u001b[0m_exceptions\u001b[0m\u001b[1;33m\u001b[0m\u001b[1;33m\u001b[0m\u001b[0m\n",
      "\u001b[1;32m~\\anaconda3\\envs\\tens\\lib\\site-packages\\absl\\flags\\_argument_parser.py\u001b[0m in \u001b[0;36m<module>\u001b[1;34m\u001b[0m\n\u001b[0;32m     80\u001b[0m \u001b[1;33m\u001b[0m\u001b[0m\n\u001b[0;32m     81\u001b[0m \u001b[1;33m\u001b[0m\u001b[0m\n\u001b[1;32m---> 82\u001b[1;33m \u001b[1;32mclass\u001b[0m \u001b[0mArgumentParser\u001b[0m\u001b[1;33m(\u001b[0m\u001b[0mGeneric\u001b[0m\u001b[1;33m[\u001b[0m\u001b[0m_T\u001b[0m\u001b[1;33m]\u001b[0m\u001b[1;33m,\u001b[0m \u001b[0mmetaclass\u001b[0m\u001b[1;33m=\u001b[0m\u001b[0m_ArgumentParserCache\u001b[0m\u001b[1;33m)\u001b[0m\u001b[1;33m:\u001b[0m\u001b[1;33m\u001b[0m\u001b[1;33m\u001b[0m\u001b[0m\n\u001b[0m\u001b[0;32m     83\u001b[0m   \"\"\"Base class used to parse and convert arguments.\n\u001b[0;32m     84\u001b[0m \u001b[1;33m\u001b[0m\u001b[0m\n",
      "\u001b[1;31mTypeError\u001b[0m: metaclass conflict: the metaclass of a derived class must be a (non-strict) subclass of the metaclasses of all its bases"
     ]
    }
   ],
   "source": [
    "import tensorflow as tf"
   ]
  },
  {
   "cell_type": "markdown",
   "id": "37a5010a",
   "metadata": {},
   "source": [
    "# CNN"
   ]
  },
  {
   "cell_type": "code",
   "execution_count": null,
   "id": "0de042d5",
   "metadata": {},
   "outputs": [],
   "source": [
    "from tensorflow.keras import layers,models"
   ]
  },
  {
   "cell_type": "code",
   "execution_count": null,
   "id": "79e3dc47",
   "metadata": {},
   "outputs": [],
   "source": []
  },
  {
   "cell_type": "code",
   "execution_count": null,
   "id": "20c29843",
   "metadata": {},
   "outputs": [],
   "source": []
  },
  {
   "cell_type": "code",
   "execution_count": null,
   "id": "3d70d3a2",
   "metadata": {},
   "outputs": [],
   "source": []
  },
  {
   "cell_type": "code",
   "execution_count": null,
   "id": "c699ec67",
   "metadata": {},
   "outputs": [],
   "source": []
  },
  {
   "cell_type": "code",
   "execution_count": null,
   "id": "d759dd9f",
   "metadata": {},
   "outputs": [],
   "source": []
  }
 ],
 "metadata": {
  "kernelspec": {
   "display_name": "Python 3",
   "language": "python",
   "name": "python3"
  },
  "language_info": {
   "codemirror_mode": {
    "name": "ipython",
    "version": 3
   },
   "file_extension": ".py",
   "mimetype": "text/x-python",
   "name": "python",
   "nbconvert_exporter": "python",
   "pygments_lexer": "ipython3",
   "version": "3.6.13"
  },
  "toc": {
   "base_numbering": 1,
   "nav_menu": {},
   "number_sections": true,
   "sideBar": true,
   "skip_h1_title": false,
   "title_cell": "Table of Contents",
   "title_sidebar": "Contents",
   "toc_cell": false,
   "toc_position": {
    "height": "calc(100% - 180px)",
    "left": "10px",
    "top": "150px",
    "width": "212.625px"
   },
   "toc_section_display": true,
   "toc_window_display": true
  },
  "varInspector": {
   "cols": {
    "lenName": 16,
    "lenType": 16,
    "lenVar": 40
   },
   "kernels_config": {
    "python": {
     "delete_cmd_postfix": "",
     "delete_cmd_prefix": "del ",
     "library": "var_list.py",
     "varRefreshCmd": "print(var_dic_list())"
    },
    "r": {
     "delete_cmd_postfix": ") ",
     "delete_cmd_prefix": "rm(",
     "library": "var_list.r",
     "varRefreshCmd": "cat(var_dic_list()) "
    }
   },
   "types_to_exclude": [
    "module",
    "function",
    "builtin_function_or_method",
    "instance",
    "_Feature"
   ],
   "window_display": false
  }
 },
 "nbformat": 4,
 "nbformat_minor": 5
}
